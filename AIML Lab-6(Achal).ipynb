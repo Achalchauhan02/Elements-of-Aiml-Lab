{
  "nbformat": 4,
  "nbformat_minor": 0,
  "metadata": {
    "colab": {
      "provenance": []
    },
    "kernelspec": {
      "name": "python3",
      "display_name": "Python 3"
    },
    "language_info": {
      "name": "python"
    }
  },
  "cells": [
    {
      "cell_type": "code",
      "execution_count": 1,
      "metadata": {
        "id": "sjbJi6k6qu_Z"
      },
      "outputs": [],
      "source": [
        "import pandas as pd\n",
        "import numpy as np\n",
        "import matplotlib.pyplot as plt"
      ]
    },
    {
      "cell_type": "code",
      "source": [
        "# Load your dataset\n",
        "df = pd.read_csv('attendance_avg.csv')"
      ],
      "metadata": {
        "id": "0AWwVXMvv2NL"
      },
      "execution_count": 2,
      "outputs": []
    },
    {
      "cell_type": "code",
      "source": [
        "# Handling Missing Values\n",
        "\n",
        "# Option 1: Remove rows with missing values\n",
        "df_cleaned = df.dropna()"
      ],
      "metadata": {
        "id": "69Uu6eL3PWNI"
      },
      "execution_count": 3,
      "outputs": []
    },
    {
      "cell_type": "code",
      "source": [
        "# Option 2: Fill missing values with the mean (for numerical columns)\n",
        "df_filled = df.fillna(df.select_dtypes(include=np.number).mean()) # Select only numeric columns for calculating the mean"
      ],
      "metadata": {
        "id": "aHNZGzBBPdAP"
      },
      "execution_count": 4,
      "outputs": []
    },
    {
      "cell_type": "code",
      "source": [
        "# Option 3: Fill missing values with the median (for numerical columns)\n",
        "df_filled_median = df.fillna(df.select_dtypes(include=np.number).median()) # Select numeric columns for median calculation"
      ],
      "metadata": {
        "id": "pwFBHauaPmnA"
      },
      "execution_count": 5,
      "outputs": []
    },
    {
      "cell_type": "code",
      "source": [
        "# Option 4: Fill missing values with the mode (for categorical columns)\n",
        "df_filled_mode = df.apply(lambda x: x.fillna(x.mode()[0]) if x.dtype == 'O' else x)"
      ],
      "metadata": {
        "id": "8wjBChXLPtcb"
      },
      "execution_count": 6,
      "outputs": []
    },
    {
      "cell_type": "code",
      "source": [
        "# Handling Outliers\n",
        "\n",
        "# Using the Interquartile Range (IQR) method\n",
        "Q1 = df.select_dtypes(include=np.number).quantile(0.25) # Select numeric columns for quantile calculations\n",
        "Q3 = df.select_dtypes(include=np.number).quantile(0.75) # Select numeric columns for quantile calculations\n",
        "IQR = Q3 - Q1"
      ],
      "metadata": {
        "id": "nSWSY7ZbPxqv"
      },
      "execution_count": 7,
      "outputs": []
    },
    {
      "cell_type": "code",
      "source": [
        "# Define outlier bounds\n",
        "lower_bound = Q1 - 1.5 * IQR\n",
        "upper_bound = Q3 + 1.5 * IQR"
      ],
      "metadata": {
        "id": "EQ40d2irP2Hq"
      },
      "execution_count": 8,
      "outputs": []
    },
    {
      "cell_type": "code",
      "source": [
        "# Identify outliers\n",
        "outliers = ((df.select_dtypes(include=np.number) < lower_bound) | (df.select_dtypes(include=np.number) > upper_bound))"
      ],
      "metadata": {
        "id": "wht1EBhRP5b5"
      },
      "execution_count": 9,
      "outputs": []
    },
    {
      "cell_type": "code",
      "source": [
        "# Option 1: Remove outliers\n",
        "df_no_outliers = df[~((df.select_dtypes(include=np.number) < lower_bound) | (df.select_dtypes(include=np.number) > upper_bound)).any(axis=1)]"
      ],
      "metadata": {
        "id": "182b6mFQQBxc"
      },
      "execution_count": 10,
      "outputs": []
    },
    {
      "cell_type": "code",
      "source": [
        "# Option 2: Cap outliers to the lower and upper bounds\n",
        "df_capped = df.copy()\n",
        "numeric_df = df.select_dtypes(include=np.number) # Select numeric columns for comparison\n",
        "\n",
        "for col in numeric_df.columns:\n",
        "    df_capped.loc[numeric_df[col] < lower_bound[col], col] = lower_bound[col]\n",
        "    df_capped.loc[numeric_df[col] > upper_bound[col], col] = upper_bound[col]"
      ],
      "metadata": {
        "colab": {
          "base_uri": "https://localhost:8080/"
        },
        "id": "k0erE9irQEz8",
        "outputId": "7e74160c-d85f-406f-c533-46b7d81e14f1"
      },
      "execution_count": 11,
      "outputs": [
        {
          "output_type": "stream",
          "name": "stderr",
          "text": [
            "<ipython-input-11-a5d1c4883c65>:6: FutureWarning: Setting an item of incompatible dtype is deprecated and will raise an error in a future version of pandas. Value '49995057.5' has dtype incompatible with int64, please explicitly cast to a compatible dtype first.\n",
            "  df_capped.loc[numeric_df[col] < lower_bound[col], col] = lower_bound[col]\n"
          ]
        }
      ]
    },
    {
      "cell_type": "code",
      "source": [
        "# Option 3: Impute outliers with mean/median\n",
        "df_imputed_outliers = df.copy()\n",
        "df_imputed_outliers[outliers] = np.nan\n",
        "\n",
        "# Calculate the mean only for numeric columns\n",
        "numeric_df = df.select_dtypes(include=np.number)\n",
        "df_imputed_outliers = df_imputed_outliers.fillna(numeric_df.mean())"
      ],
      "metadata": {
        "id": "XGbBiHS9QIY4"
      },
      "execution_count": 12,
      "outputs": []
    },
    {
      "cell_type": "code",
      "source": [
        "print(\"Original DataFrame:\\n\", df)\n",
        "print(\"DataFrame after handling missing values and outliers:\\n\", df_imputed_outliers)"
      ],
      "metadata": {
        "colab": {
          "base_uri": "https://localhost:8080/"
        },
        "id": "aHDSP5V6QP0G",
        "outputId": "a29b5afc-0538-463a-cfba-ba1623062c66"
      },
      "execution_count": 13,
      "outputs": [
        {
          "output_type": "stream",
          "name": "stdout",
          "text": [
            "Original DataFrame:\n",
            "      SAP ID     ROLL ID            NAME   Avg\n",
            "0  50002354  R211235456   Pranav Sharma  83.8\n",
            "1  50003546  R215665563    Ranjan Kumar  63.4\n",
            "2  50007894  R218999654  Riya Srivastav  78.0\n",
            "3  50003156  R212256653     Aditi Tamta  83.4\n",
            "4  50007235  R218656723   Mehak Kandpal  94.4\n",
            "5  50002324  R212544582     Sajal Suyal  69.2\n",
            "6  50008943  R218946821  Lokesh Kapkoti  75.7\n",
            "7  50003013  R219756894   Diwakar Bisht  69.0\n",
            "8  50002364  R218656595  Devank Rathore  81.2\n",
            "DataFrame after handling missing values and outliers:\n",
            "      SAP ID     ROLL ID            NAME   Avg\n",
            "0  50002354  R211235456   Pranav Sharma  83.8\n",
            "1  50003546  R215665563    Ranjan Kumar  63.4\n",
            "2  50007894  R218999654  Riya Srivastav  78.0\n",
            "3  50003156  R212256653     Aditi Tamta  83.4\n",
            "4  50007235  R218656723   Mehak Kandpal  94.4\n",
            "5  50002324  R212544582     Sajal Suyal  69.2\n",
            "6  50008943  R218946821  Lokesh Kapkoti  75.7\n",
            "7  50003013  R219756894   Diwakar Bisht  69.0\n",
            "8  50002364  R218656595  Devank Rathore  81.2\n"
          ]
        }
      ]
    }
  ]
}
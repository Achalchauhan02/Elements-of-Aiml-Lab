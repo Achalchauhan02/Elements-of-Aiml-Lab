{
  "nbformat": 4,
  "nbformat_minor": 0,
  "metadata": {
    "colab": {
      "provenance": []
    },
    "kernelspec": {
      "name": "python3",
      "display_name": "Python 3"
    },
    "language_info": {
      "name": "python"
    }
  },
  "cells": [
    {
      "cell_type": "code",
      "execution_count": 19,
      "metadata": {
        "id": "eBXqbhyTlPDv"
      },
      "outputs": [],
      "source": [
        "import pandas as pd\n",
        "import numpy as np\n",
        "import matplotlib.pyplot as plt"
      ]
    },
    {
      "cell_type": "code",
      "source": [
        "data = np.array([ [3.2, 4.1],\n",
        "                 [1.2, 2.5],\n",
        "                 [4.5, 3.2],\n",
        "                 [3.1, 3.9],\n",
        "                 [5.5, 5.8],\n",
        "                 [3.7, 3.8],\n",
        "                 [2.8, 2.5],\n",
        "                 [1.5, 1.6],\n",
        "                 [2.7, 2.9],\n",
        "                 [1.9, 1.7]])"
      ],
      "metadata": {
        "id": "K3Z1xowinVRK"
      },
      "execution_count": 20,
      "outputs": []
    },
    {
      "cell_type": "code",
      "source": [
        "# Step 1: Standardize the data (manually)\n",
        "mean_data = np.mean(data, axis=0)   # Mean of each feature\n",
        "std_data = np.std(data, axis=0)     # Standard deviation of each featur"
      ],
      "metadata": {
        "id": "-2NpYYlln2wd"
      },
      "execution_count": 21,
      "outputs": []
    },
    {
      "cell_type": "code",
      "source": [
        "#Import the PCA class from the sklearn.decomposition module\n",
        "from sklearn.decomposition import PCA\n",
        "\n",
        "# Calculate standardized data\n",
        "data_standardized = (data - mean_data) / std_data\n",
        "\n",
        "# Step 2: Apply PCA\n",
        "pca = PCA(n_components=2)  # Change n_components to the desired number of components\n",
        "pca.fit(data_standardized) # Changed 'data_stan' to 'data_standardized'\n",
        "data_pca = pca.transform(data_standardized)"
      ],
      "metadata": {
        "id": "Kd0GkPH2oTpV"
      },
      "execution_count": 22,
      "outputs": []
    },
    {
      "cell_type": "code",
      "source": [
        "data_standardized = (data - mean_data) / std_data"
      ],
      "metadata": {
        "id": "7Oti4IwRo380"
      },
      "execution_count": 23,
      "outputs": []
    },
    {
      "cell_type": "code",
      "source": [
        "# Step 2: Calculate the covariance matrix\n",
        "cov_matrix = np.cov(data_standardized.T)  # Covariance matrix"
      ],
      "metadata": {
        "id": "n1EeJKXKo415"
      },
      "execution_count": 24,
      "outputs": []
    },
    {
      "cell_type": "code",
      "source": [
        "# Step 3: Compute eigenvectors and eigenvalues of the covariance matrix\n",
        "eigenvalues, eigenvectors = np.linalg.eig(cov_matrix)"
      ],
      "metadata": {
        "id": "5BA8hrGAo9W_"
      },
      "execution_count": 25,
      "outputs": []
    },
    {
      "cell_type": "code",
      "source": [
        "# Step 4: Sort the eigenvalues in descending order and sort eigenvectors accordingly\n",
        "sorted_indices = np.argsort(eigenvalues)[::-1]  # Indices of sorted eigenvalues in descending order\n",
        "eigenvalues = eigenvalues[sorted_indices]\n",
        "eigenvectors = eigenvectors[:, sorted_indices]"
      ],
      "metadata": {
        "id": "w9p_oIUXpBGY"
      },
      "execution_count": 26,
      "outputs": []
    },
    {
      "cell_type": "code",
      "source": [
        "# Step 5: Select the top k eigenvectors (here we take 2 principal components)\n",
        "k = 2  # Number of principal components\n",
        "eigenvectors_reduced = eigenvectors[:, :k]"
      ],
      "metadata": {
        "id": "6WaJJpMypFIY"
      },
      "execution_count": 27,
      "outputs": []
    },
    {
      "cell_type": "code",
      "source": [
        "# Step 6: Project the data onto the new space (principal components)\n",
        "data_pca = np.dot(data_standardized, eigenvectors_reduced)"
      ],
      "metadata": {
        "id": "VlKji5yZpInk"
      },
      "execution_count": 28,
      "outputs": []
    },
    {
      "cell_type": "code",
      "source": [
        "# Step 7: Plot the transformed data\n",
        "plt.figure(figsize=(8, 6))\n",
        "plt.scatter(data_pca[:, 0], data_pca[:, 1], c='blue')\n",
        "plt.xlabel('Principal Component 1')\n",
        "plt.ylabel('Principal Component 2')\n",
        "plt.title('PCA Projection (Manual Implementation)')\n",
        "plt.grid()\n",
        "plt.show()"
      ],
      "metadata": {
        "colab": {
          "base_uri": "https://localhost:8080/",
          "height": 564
        },
        "id": "keT3BDz4pZki",
        "outputId": "8435af46-8399-4e30-e94c-968cf3aebd10"
      },
      "execution_count": 29,
      "outputs": [
        {
          "output_type": "display_data",
          "data": {
            "text/plain": [
              "<Figure size 800x600 with 1 Axes>"
            ],
            "image/png": "[encoded data removed]"
          },
          "metadata": {}
        }
      ]
    },
    {
      "cell_type": "code",
      "source": [
        "# Print explained variance (eigenvalues represent variance explained by each component)\n",
        "explained_variance = eigenvalues / np.sum(eigenvalues)\n",
        "print(f\"Explained variance by each principal component: {explained_variance}\")"
      ],
      "metadata": {
        "colab": {
          "base_uri": "https://localhost:8080/"
        },
        "id": "-h7Ust6ApcVu",
        "outputId": "db354490-6e50-4643-80bf-371c7bfece40"
      },
      "execution_count": 30,
      "outputs": [
        {
          "output_type": "stream",
          "name": "stdout",
          "text": [
            "Explained variance by each principal component: [0.92186428 0.07813572]\n"
          ]
        }
      ]
    }
  ]
}